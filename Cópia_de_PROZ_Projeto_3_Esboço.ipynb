{
  "nbformat": 4,
  "nbformat_minor": 0,
  "metadata": {
    "colab": {
      "provenance": [],
      "authorship_tag": "ABX9TyOQqmscs2DE9UDVmqvCZlgi",
      "include_colab_link": true
    },
    "kernelspec": {
      "name": "python3",
      "display_name": "Python 3"
    },
    "language_info": {
      "name": "python"
    }
  },
  "cells": [
    {
      "cell_type": "markdown",
      "metadata": {
        "id": "view-in-github",
        "colab_type": "text"
      },
      "source": [
        "<a href=\"https://colab.research.google.com/github/Jose1Lucas/project-03/blob/WesleyBranch/C%C3%B3pia_de_PROZ_Projeto_3_Esbo%C3%A7o.ipynb\" target=\"_parent\"><img src=\"https://colab.research.google.com/assets/colab-badge.svg\" alt=\"Open In Colab\"/></a>"
      ]
    },
    {
      "cell_type": "code",
      "execution_count": null,
      "metadata": {
        "id": "1UvzkPo1Rq72"
      },
      "outputs": [],
      "source": [
        "# Lista de tarefas vazia onde ocorrerá todas interações.\n",
        "tarefas = []\n",
        "\n",
        "\n",
        "#Função 01 Adicionar tarefas\n",
        "# Função que leva 2 parâmetros a lista e as novas tarefs a serem adicionadas.\n",
        "def adicionar_tarefas(tarefas, novas_tarefas):\n",
        "# Variável \"adicionando\" guarda a ação de pegar a lista e aplicar o \".append\" que adiciona as tarefas guardadas na variável \"novas_tarefas\" à frente...\n",
        "    adicionando = tarefas.append(novas_tarefas)\n",
        "    return adicionando\n",
        "\n",
        "\n",
        "#Função 02 Marcar tarefa como concluída\n",
        "\n",
        "\n",
        "\n",
        "#Função 03 Remover tarefa\n",
        "\n",
        "\n",
        "\n",
        "#Função 04 Visualizar tarefas pendentes\n",
        "def visualizar_tarefas_pendentes(tarefas):\n",
        "  if not tarefas:\n",
        "    print(\"\\nNão há tarefas pendentes\")\n",
        "\n",
        "  else:\n",
        "    print(\"\\nTarefas pendentes:\")\n",
        "    for i, tarefa in enumerate(tarefas, start = 1):  # Começa a enumeração pelo 1\n",
        "      print(f\"{i}. {tarefa}\")\n",
        "\n",
        "\n",
        "\n",
        "\n",
        "\n",
        "\n",
        "#interface\n",
        "sistema = True\n",
        "while sistema:\n",
        "  print(\"\\nMenu do gerenciador de tarefas \\nEscolha uma ação:\")\n",
        "  print(\"\\n1. Adicionar tarefas \\n2. Marcar tarefa como concluída \\n3. Remover tarefa \\n4. Visualizar tarefas pendentes \\n5. Sair\")\n",
        "  opcao = int(input())\n",
        "\n",
        "  if (opcao == 1):\n",
        "    print(\"\\nEscreva o nome das novas Tarefas: \")\n",
        "    novas_tarefas = str(input())   # Este Segundo \"input\" obtém os itens a serem adicionados na lista.\n",
        "    adicionar_tarefas(tarefas, novas_tarefas)\n",
        "    print(\"\\nA lista de tarefas atual é: \" + str(tarefas)) #Acho que deveria mostrar somente a tarefa adicionada (Wesley)\n",
        "\n",
        "  #elif opcao == 2:\n",
        "\n",
        "  #elif opcao == 3:\n",
        "\n",
        "\n",
        "  elif opcao == 4:\n",
        "    visualizar_tarefas_pendentes(tarefas)\n",
        "\n",
        "  # Se o valor não for 1 mostrará a mensagem: Digite uma opção válida! (aqui será colocado os outros valores que \"opcao\" pode receber.) e retornará ao começo do loop.\n",
        "  elif opcao not in [1, 2, 3, 4, 5]:\n",
        "    print(\"\\n(((Digite uma opção válida!)))\")\n",
        "\n",
        "  elif opcao == 5:\n",
        "    sistema = False\n",
        "    print(\"Saindo do sistema...\")\n",
        "\n",
        "\n"
      ]
    }
  ]
}