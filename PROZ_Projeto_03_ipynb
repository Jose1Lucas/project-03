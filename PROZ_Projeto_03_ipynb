print("SISTEMA GERENCIADOR DE TAREFAS")
tarefas = []

#Função 00 Imprimir lista formatada.
def imprimir_lista_formatada(tarefas):
  contador = 1
  for i in range (len(tarefas)):
    print(contador," - ", tarefas[i])
    contador = contador + 1

#função 01 adicionar tarefas.
def adicionar_tarefas(tarefas, novas_tarefas):
    tarefas.extend(novas_tarefas.split(', '))

# Função 02 Marcar tarefa como concluída.
def marcar_tarefa_como_concluida(tarefas):
    if len(tarefas) == 0:
        print("Sua lista está vazia! Não há tarefas para marcar como concluída.")
        return

    imprimir_lista_formatada(tarefas) # Lista as tarefas para o usuário

    while True:  # Loop para garantir que o usuário insira um valor válido
        try:
            indice = int(input("Qual tarefa você concluiu? Digite o número dela: ")) - 1
            if indice >= 0 and indice < len(tarefas):  # Verifica se o índice é válido
                tarefas[indice] += " - Concluída"  # Marca a tarefa como concluída
                print(f'Ótimo trabalho! A tarefa "{tarefas[indice]}" foi marcada como concluída!')
                break  # Sai do loop após uma entrada válida
            else:
                print("Número inválido! Tente novamente.")
        except ValueError:  # Captura a exceção se a conversão falhar
            print("Por favor, digite um número válido.")

#Função 03 remover tarefas.
def remover_tarefa():
    if tarefas:
        imprimir_lista_formatada(tarefas)  #Lista as tarefas antes de remover
        indice = int(input("Número da tarefa a remover: ")) - 1
        if 0 <= indice < len(tarefas):
            print(f'Tarefa "{tarefas[indice]}" removida!')
            tarefas.pop(indice)  #Remove a tarefa pelo índice
        else:
            print("Número inválido.")
    else:
        print("Não há tarefas para remover.")

#Função 04 Visualizar tarefas pendentes.
def visualizar_tarefas_pendentes(tarefas):
  if not tarefas:
    print("\nNão há tarefas pendentes")

  else:
    print("\nTarefas pendentes:")
    for i, tarefa in enumerate(tarefas, start = 1):  #Começa a enumeração pelo 1
      print(f"{i}. {tarefa}")

#interface
sistema = True
while sistema:
  print("-" * 40)
  print("\nMenu do gerenciador de tarefas \nEscolha uma ação:")
  print("\n1. Adicionar tarefas \n2. Marcar tarefa como concluída \n3. Remover tarefa \n4. Visualizar tarefas pendentes \n5. Sair")
  print("-" * 40)
  print()
  opcao = int(input())

  if (opcao == 1):
    print("\nEscreva o nome das novas Tarefas: ")
    novas_tarefas = str(input())
    adicionar_tarefas(tarefas, novas_tarefas)
    novas_tarefas = novas_tarefas.split(", ")
    print("\nA lista de tarefas adicionadas é:")
    for tarefa in novas_tarefas:
      print("- " + tarefa)


  elif opcao == 2:
    marcar_tarefa_como_concluida(tarefas)

  elif opcao == 3:
    remover_tarefa()

  elif opcao == 4:
    visualizar_tarefas_pendentes(tarefas)

  #Se a opção digitada não estiver entre 1 a 5 mostrará a mensagem: Digite uma opção válida! retornando ao começo do loop.
  elif opcao not in [1, 2, 3, 4, 5]:
    print("\n(((Digite uma opção válida!)))")

  elif opcao == 5:
    sistema = False
    print("Saindo do sistema...")
